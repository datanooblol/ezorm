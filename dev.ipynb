{
 "cells": [
  {
   "cell_type": "code",
   "execution_count": 1,
   "id": "0daa6fff-a9e6-4b05-95c5-7aa369568a44",
   "metadata": {},
   "outputs": [],
   "source": [
    "%load_ext autoreload\n",
    "%autoreload 2"
   ]
  },
  {
   "cell_type": "markdown",
   "id": "d5ad4a9f-ecee-4b67-a091-d04b73e39bb0",
   "metadata": {},
   "source": [
    "# Import Lib"
   ]
  },
  {
   "cell_type": "code",
   "execution_count": 2,
   "id": "fb5910ed-56c6-4520-813b-1b5a983c9364",
   "metadata": {},
   "outputs": [],
   "source": [
    "import ezorm as ezo"
   ]
  },
  {
   "cell_type": "code",
   "execution_count": 3,
   "id": "a2d2a6b9-e498-4fed-8f6e-069afcda8d1b",
   "metadata": {},
   "outputs": [
    {
     "data": {
      "text/plain": [
       "'./db/ezorm.db'"
      ]
     },
     "execution_count": 3,
     "metadata": {},
     "output_type": "execute_result"
    }
   ],
   "source": [
    "from ezorm import DATABASE\n",
    "DATABASE"
   ]
  },
  {
   "cell_type": "markdown",
   "id": "09330c18-e334-4962-a341-a066b711a624",
   "metadata": {},
   "source": [
    "# Create data model"
   ]
  },
  {
   "cell_type": "code",
   "execution_count": 4,
   "id": "4d88bd48-a8b1-45a4-b1c2-d59e37b70919",
   "metadata": {},
   "outputs": [],
   "source": [
    "class DPoPProofJTI(ezo.EzORM):\n",
    "    jti:str\n",
    "\n",
    "class AccessTokenJTI(DPoPProofJTI):\n",
    "    client_id:str\n",
    "    access_token:str\n",
    "    exp:int\n",
    "    active:bool = True\n",
    "    remark:str = None\n",
    "    \n",
    "class RefreshTokenJTI(AccessTokenJTI):\n",
    "    refresh_token:str\n",
    "\n",
    "tables = [DPoPProofJTI, AccessTokenJTI, RefreshTokenJTI]"
   ]
  },
  {
   "cell_type": "markdown",
   "id": "b9849417-6d35-4060-9295-9de4ecafe7a5",
   "metadata": {},
   "source": [
    "# Create tables"
   ]
  },
  {
   "cell_type": "code",
   "execution_count": 5,
   "id": "26ad1c5b-c52e-40ac-bfe0-2b743165ed1d",
   "metadata": {},
   "outputs": [
    {
     "name": "stdout",
     "output_type": "stream",
     "text": [
      "Model: dpopproofjti created successfully\n",
      "Model: accesstokenjti created successfully\n",
      "Model: refreshtokenjti created successfully\n",
      "All tables created successfully\n"
     ]
    }
   ],
   "source": [
    "ezo.create_tables(tables)"
   ]
  },
  {
   "cell_type": "code",
   "execution_count": 6,
   "id": "53c103ea-11ca-4bc9-98a7-b70864e3644c",
   "metadata": {},
   "outputs": [
    {
     "data": {
      "text/html": [
       "<div>\n",
       "<style scoped>\n",
       "    .dataframe tbody tr th:only-of-type {\n",
       "        vertical-align: middle;\n",
       "    }\n",
       "\n",
       "    .dataframe tbody tr th {\n",
       "        vertical-align: top;\n",
       "    }\n",
       "\n",
       "    .dataframe thead th {\n",
       "        text-align: right;\n",
       "    }\n",
       "</style>\n",
       "<table border=\"1\" class=\"dataframe\">\n",
       "  <thead>\n",
       "    <tr style=\"text-align: right;\">\n",
       "      <th></th>\n",
       "      <th>table_catalog</th>\n",
       "      <th>table_schema</th>\n",
       "      <th>table_name</th>\n",
       "      <th>table_type</th>\n",
       "      <th>self_referencing_column_name</th>\n",
       "      <th>reference_generation</th>\n",
       "      <th>user_defined_type_catalog</th>\n",
       "      <th>user_defined_type_schema</th>\n",
       "      <th>user_defined_type_name</th>\n",
       "      <th>is_insertable_into</th>\n",
       "      <th>is_typed</th>\n",
       "      <th>commit_action</th>\n",
       "      <th>TABLE_COMMENT</th>\n",
       "    </tr>\n",
       "  </thead>\n",
       "  <tbody>\n",
       "    <tr>\n",
       "      <th>0</th>\n",
       "      <td>ezorm</td>\n",
       "      <td>main</td>\n",
       "      <td>accesstokenjti</td>\n",
       "      <td>BASE TABLE</td>\n",
       "      <td>None</td>\n",
       "      <td>None</td>\n",
       "      <td>None</td>\n",
       "      <td>None</td>\n",
       "      <td>None</td>\n",
       "      <td>YES</td>\n",
       "      <td>NO</td>\n",
       "      <td>None</td>\n",
       "      <td>None</td>\n",
       "    </tr>\n",
       "    <tr>\n",
       "      <th>1</th>\n",
       "      <td>ezorm</td>\n",
       "      <td>main</td>\n",
       "      <td>dpopproofjti</td>\n",
       "      <td>BASE TABLE</td>\n",
       "      <td>None</td>\n",
       "      <td>None</td>\n",
       "      <td>None</td>\n",
       "      <td>None</td>\n",
       "      <td>None</td>\n",
       "      <td>YES</td>\n",
       "      <td>NO</td>\n",
       "      <td>None</td>\n",
       "      <td>None</td>\n",
       "    </tr>\n",
       "    <tr>\n",
       "      <th>2</th>\n",
       "      <td>ezorm</td>\n",
       "      <td>main</td>\n",
       "      <td>refreshtokenjti</td>\n",
       "      <td>BASE TABLE</td>\n",
       "      <td>None</td>\n",
       "      <td>None</td>\n",
       "      <td>None</td>\n",
       "      <td>None</td>\n",
       "      <td>None</td>\n",
       "      <td>YES</td>\n",
       "      <td>NO</td>\n",
       "      <td>None</td>\n",
       "      <td>None</td>\n",
       "    </tr>\n",
       "  </tbody>\n",
       "</table>\n",
       "</div>"
      ],
      "text/plain": [
       "  table_catalog table_schema       table_name  table_type  \\\n",
       "0         ezorm         main   accesstokenjti  BASE TABLE   \n",
       "1         ezorm         main     dpopproofjti  BASE TABLE   \n",
       "2         ezorm         main  refreshtokenjti  BASE TABLE   \n",
       "\n",
       "  self_referencing_column_name reference_generation user_defined_type_catalog  \\\n",
       "0                         None                 None                      None   \n",
       "1                         None                 None                      None   \n",
       "2                         None                 None                      None   \n",
       "\n",
       "  user_defined_type_schema user_defined_type_name is_insertable_into is_typed  \\\n",
       "0                     None                   None                YES       NO   \n",
       "1                     None                   None                YES       NO   \n",
       "2                     None                   None                YES       NO   \n",
       "\n",
       "  commit_action TABLE_COMMENT  \n",
       "0          None          None  \n",
       "1          None          None  \n",
       "2          None          None  "
      ]
     },
     "execution_count": 6,
     "metadata": {},
     "output_type": "execute_result"
    }
   ],
   "source": [
    "query = \"\"\"\\\n",
    "SELECT * \n",
    "FROM information_schema.tables \n",
    "WHERE table_schema = 'main';\n",
    "\"\"\".strip()\n",
    "ezo.execute(query, [], True)"
   ]
  },
  {
   "cell_type": "markdown",
   "id": "a99a127a-cd8d-4e98-832a-8fd1718a9958",
   "metadata": {},
   "source": [
    "# Read the table"
   ]
  },
  {
   "cell_type": "code",
   "execution_count": 7,
   "id": "59510dd0-94f2-48b0-8517-83476224245e",
   "metadata": {},
   "outputs": [
    {
     "name": "stdout",
     "output_type": "stream",
     "text": [
      "SELECT jti FROM dpopproofjti;\n"
     ]
    },
    {
     "data": {
      "text/html": [
       "<div>\n",
       "<style scoped>\n",
       "    .dataframe tbody tr th:only-of-type {\n",
       "        vertical-align: middle;\n",
       "    }\n",
       "\n",
       "    .dataframe tbody tr th {\n",
       "        vertical-align: top;\n",
       "    }\n",
       "\n",
       "    .dataframe thead th {\n",
       "        text-align: right;\n",
       "    }\n",
       "</style>\n",
       "<table border=\"1\" class=\"dataframe\">\n",
       "  <thead>\n",
       "    <tr style=\"text-align: right;\">\n",
       "      <th></th>\n",
       "      <th>jti</th>\n",
       "    </tr>\n",
       "  </thead>\n",
       "  <tbody>\n",
       "  </tbody>\n",
       "</table>\n",
       "</div>"
      ],
      "text/plain": [
       "Empty DataFrame\n",
       "Columns: [jti]\n",
       "Index: []"
      ]
     },
     "execution_count": 7,
     "metadata": {},
     "output_type": "execute_result"
    }
   ],
   "source": [
    "from ezorm.crud import Read\n",
    "query = Read(\n",
    "    table=DPoPProofJTI,\n",
    "    select=[DPoPProofJTI.jti],\n",
    ").query()\n",
    "print(query)\n",
    "ezo.execute(query=query, data=[], response=True)"
   ]
  },
  {
   "cell_type": "code",
   "execution_count": 8,
   "id": "10e55e11-7d88-45cc-ab80-fdf9d7ffe5d6",
   "metadata": {},
   "outputs": [
    {
     "name": "stdout",
     "output_type": "stream",
     "text": [
      "SELECT jti, client_id, access_token FROM accesstokenjti;\n"
     ]
    },
    {
     "data": {
      "text/html": [
       "<div>\n",
       "<style scoped>\n",
       "    .dataframe tbody tr th:only-of-type {\n",
       "        vertical-align: middle;\n",
       "    }\n",
       "\n",
       "    .dataframe tbody tr th {\n",
       "        vertical-align: top;\n",
       "    }\n",
       "\n",
       "    .dataframe thead th {\n",
       "        text-align: right;\n",
       "    }\n",
       "</style>\n",
       "<table border=\"1\" class=\"dataframe\">\n",
       "  <thead>\n",
       "    <tr style=\"text-align: right;\">\n",
       "      <th></th>\n",
       "      <th>jti</th>\n",
       "      <th>client_id</th>\n",
       "      <th>access_token</th>\n",
       "    </tr>\n",
       "  </thead>\n",
       "  <tbody>\n",
       "  </tbody>\n",
       "</table>\n",
       "</div>"
      ],
      "text/plain": [
       "Empty DataFrame\n",
       "Columns: [jti, client_id, access_token]\n",
       "Index: []"
      ]
     },
     "execution_count": 8,
     "metadata": {},
     "output_type": "execute_result"
    }
   ],
   "source": [
    "from ezorm.crud import Read\n",
    "query = Read(\n",
    "    table=AccessTokenJTI,\n",
    "    select=[AccessTokenJTI.jti, AccessTokenJTI.client_id, AccessTokenJTI.access_token],\n",
    ").query()\n",
    "print(query)\n",
    "ezo.execute(query=query, data=[], response=True)"
   ]
  },
  {
   "cell_type": "code",
   "execution_count": 9,
   "id": "7e3833d8-3146-4b9d-b265-d57f96c2d65b",
   "metadata": {},
   "outputs": [
    {
     "name": "stdout",
     "output_type": "stream",
     "text": [
      "SELECT * FROM refreshtokenjti;\n"
     ]
    },
    {
     "data": {
      "text/html": [
       "<div>\n",
       "<style scoped>\n",
       "    .dataframe tbody tr th:only-of-type {\n",
       "        vertical-align: middle;\n",
       "    }\n",
       "\n",
       "    .dataframe tbody tr th {\n",
       "        vertical-align: top;\n",
       "    }\n",
       "\n",
       "    .dataframe thead th {\n",
       "        text-align: right;\n",
       "    }\n",
       "</style>\n",
       "<table border=\"1\" class=\"dataframe\">\n",
       "  <thead>\n",
       "    <tr style=\"text-align: right;\">\n",
       "      <th></th>\n",
       "      <th>jti</th>\n",
       "      <th>client_id</th>\n",
       "      <th>access_token</th>\n",
       "      <th>exp</th>\n",
       "      <th>active</th>\n",
       "      <th>remark</th>\n",
       "      <th>refresh_token</th>\n",
       "    </tr>\n",
       "  </thead>\n",
       "  <tbody>\n",
       "  </tbody>\n",
       "</table>\n",
       "</div>"
      ],
      "text/plain": [
       "Empty DataFrame\n",
       "Columns: [jti, client_id, access_token, exp, active, remark, refresh_token]\n",
       "Index: []"
      ]
     },
     "execution_count": 9,
     "metadata": {},
     "output_type": "execute_result"
    }
   ],
   "source": [
    "from ezorm.crud import Read\n",
    "query = Read(\n",
    "    table=RefreshTokenJTI\n",
    ").query()\n",
    "print(query)\n",
    "ezo.execute(query=query, data=[], response=True)"
   ]
  },
  {
   "cell_type": "markdown",
   "id": "5c6db436-347d-4be4-8ab9-09b591b6c2ef",
   "metadata": {},
   "source": [
    "# Delete tables"
   ]
  },
  {
   "cell_type": "code",
   "execution_count": 10,
   "id": "293a916f-d42c-4c39-8c8b-c9f38a923f8d",
   "metadata": {},
   "outputs": [
    {
     "name": "stdout",
     "output_type": "stream",
     "text": [
      "Model: dpopproofjti deleted successfully\n",
      "Model: accesstokenjti deleted successfully\n",
      "Model: refreshtokenjti deleted successfully\n",
      "All tables deleted successfully\n"
     ]
    }
   ],
   "source": [
    "ezo.delete_tables(tables)"
   ]
  },
  {
   "cell_type": "code",
   "execution_count": 11,
   "id": "5ad545db-d09f-4f9e-a283-8fcd738f87e6",
   "metadata": {},
   "outputs": [
    {
     "data": {
      "text/html": [
       "<div>\n",
       "<style scoped>\n",
       "    .dataframe tbody tr th:only-of-type {\n",
       "        vertical-align: middle;\n",
       "    }\n",
       "\n",
       "    .dataframe tbody tr th {\n",
       "        vertical-align: top;\n",
       "    }\n",
       "\n",
       "    .dataframe thead th {\n",
       "        text-align: right;\n",
       "    }\n",
       "</style>\n",
       "<table border=\"1\" class=\"dataframe\">\n",
       "  <thead>\n",
       "    <tr style=\"text-align: right;\">\n",
       "      <th></th>\n",
       "      <th>table_catalog</th>\n",
       "      <th>table_schema</th>\n",
       "      <th>table_name</th>\n",
       "      <th>table_type</th>\n",
       "      <th>self_referencing_column_name</th>\n",
       "      <th>reference_generation</th>\n",
       "      <th>user_defined_type_catalog</th>\n",
       "      <th>user_defined_type_schema</th>\n",
       "      <th>user_defined_type_name</th>\n",
       "      <th>is_insertable_into</th>\n",
       "      <th>is_typed</th>\n",
       "      <th>commit_action</th>\n",
       "      <th>TABLE_COMMENT</th>\n",
       "    </tr>\n",
       "  </thead>\n",
       "  <tbody>\n",
       "  </tbody>\n",
       "</table>\n",
       "</div>"
      ],
      "text/plain": [
       "Empty DataFrame\n",
       "Columns: [table_catalog, table_schema, table_name, table_type, self_referencing_column_name, reference_generation, user_defined_type_catalog, user_defined_type_schema, user_defined_type_name, is_insertable_into, is_typed, commit_action, TABLE_COMMENT]\n",
       "Index: []"
      ]
     },
     "execution_count": 11,
     "metadata": {},
     "output_type": "execute_result"
    }
   ],
   "source": [
    "query = \"\"\"\\\n",
    "SELECT * \n",
    "FROM information_schema.tables \n",
    "WHERE table_schema = 'main';\n",
    "\"\"\".strip()\n",
    "ezo.execute(query, [], True)"
   ]
  },
  {
   "cell_type": "code",
   "execution_count": null,
   "id": "60c39391-b70d-4393-a700-0dec4a3f04b9",
   "metadata": {},
   "outputs": [],
   "source": []
  }
 ],
 "metadata": {
  "kernelspec": {
   "display_name": "Python 3 (ipykernel)",
   "language": "python",
   "name": "python3"
  },
  "language_info": {
   "codemirror_mode": {
    "name": "ipython",
    "version": 3
   },
   "file_extension": ".py",
   "mimetype": "text/x-python",
   "name": "python",
   "nbconvert_exporter": "python",
   "pygments_lexer": "ipython3",
   "version": "3.12.7"
  }
 },
 "nbformat": 4,
 "nbformat_minor": 5
}
